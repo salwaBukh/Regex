{
 "cells": [
  {
   "cell_type": "markdown",
   "metadata": {},
   "source": [
    "# Exercise: Regular Expressions"
   ]
  },
  {
   "cell_type": "code",
   "execution_count": 2,
   "metadata": {},
   "outputs": [],
   "source": [
    "import re"
   ]
  },
  {
   "cell_type": "code",
   "execution_count": 12,
   "metadata": {},
   "outputs": [
    {
     "name": "stdout",
     "output_type": "stream",
     "text": [
      "Username: john\n",
      "Mailserver: email\n",
      "Domain: com\n",
      "\n",
      "Username: mary\n",
      "Mailserver: otherplace\n",
      "Domain: net\n",
      "\n",
      "Username: support\n",
      "Mailserver: ourcompany\n",
      "Domain: co\n",
      "\n"
     ]
    }
   ],
   "source": [
    "#1 Question: Match all email addresses (SOLVED)\n",
    "\n",
    "inputs = [\"My email is john@email.com and mary@otherplace.net\", \n",
    "          \"Visit us at support@ourcompany.co.uk for help\",\n",
    "          \"No emails here\"]\n",
    "\n",
    "pattern = r\"(\\w+)@(\\w+)\\.(\\w+)\"\n",
    "\n",
    "matches = []\n",
    "for input in inputs:\n",
    "    matches += re.findall(pattern, input)\n",
    "\n",
    "for m in matches:\n",
    "    username = m[0]\n",
    "    mailserver = m[1]\n",
    "    domain = m[2]\n",
    "    print(f\"Username: {username}\")\n",
    "    print(f\"Mailserver: {mailserver}\")\n",
    "    print(f\"Domain: {domain}\")\n",
    "    print('')"
   ]
  },
  {
   "cell_type": "code",
   "execution_count": null,
   "metadata": {},
   "outputs": [],
   "source": [
    "#2 Question: Extract domain from email\n",
    "\n",
    "inputs = [\"john@email.com\", \n",
    "          \"mary+newsletter@gmail.com\",\n",
    "          \"support@ourcompany.co.uk\"]\n",
    "\n",
    "# your code here ...: "
   ]
  },
  {
   "cell_type": "code",
   "execution_count": null,
   "metadata": {},
   "outputs": [],
   "source": [
    "#3 Question: Validate phone number  \n",
    "\n",
    "inputs = [\"555-123-4567\",  \n",
    "          \"1 (234) 567-8910\",\n",
    "          \"notaphonenumber\"]\n",
    "\n",
    "# your code here ...:"
   ]
  },
  {
   "cell_type": "code",
   "execution_count": null,
   "metadata": {},
   "outputs": [],
   "source": [
    "#4 Question: Extract area code    \n",
    "\n",
    "inputs = [\"(555) 123-4567\",\n",
    "          \"1 (234) 567-8910\",\n",
    "          \"5551234567\"]\n",
    "\n",
    "# your code here ...: "
   ]
  },
  {
   "cell_type": "code",
   "execution_count": null,
   "metadata": {},
   "outputs": [],
   "source": [
    "#5 Question: Match URLs and extract host\n",
    "\n",
    "inputs = [\"Visit https://www.example.com for more info\",\n",
    "          \"Our website is example.com\",\n",
    "          \"No URLs here\"]\n",
    "          \n",
    "# your code here ...:"
   ]
  },
  {
   "cell_type": "code",
   "execution_count": null,
   "metadata": {},
   "outputs": [],
   "source": [
    "#6 Question: Remove non-alphabetic characters\n",
    "\n",
    "inputs = [\"Hello world!\",\n",
    "          \"123 Main St.\", \n",
    "          \"greetings&more\"]\n",
    "\n",
    "# your code here ...:"
   ]
  },
  {
   "cell_type": "code",
   "execution_count": null,
   "metadata": {},
   "outputs": [],
   "source": [
    "#7 Question: Find words containing \"tion\" \n",
    "\n",
    "inputs = [\"This is a test sentence with the word station in it.\",\n",
    "          \"No words containing tion here\",\n",
    "          \"motion activation vacation\"]\n",
    "\n",
    "# your code here ...:"
   ]
  },
  {
   "cell_type": "code",
   "execution_count": null,
   "metadata": {},
   "outputs": [],
   "source": [
    "#8 Question: Replace all occurrences of \"hello\" with \"goodbye\"\n",
    "\n",
    "inputs = [\"hello world\", \n",
    "          \"hello there\",\n",
    "          \"no match\"]\n",
    "\n",
    " # your code here ...:"
   ]
  },
  {
   "cell_type": "code",
   "execution_count": null,
   "metadata": {},
   "outputs": [],
   "source": [
    "#9 Question: Extract date strings in ISO8601 format\n",
    "\n",
    "inputs = [\"Log from 2023-01-15\",\n",
    "          \"Meeting on 2023-02-01T13:00:00Z\",  \n",
    "          \"No dates\"]\n",
    "\n",
    " # your code here ...:"
   ]
  },
  {
   "cell_type": "code",
   "execution_count": null,
   "metadata": {},
   "outputs": [],
   "source": [
    "#10 Question: Validate correctly formatted date\n",
    "\n",
    "inputs = [\"2023-01-15\",\n",
    "          \"02/01/2023\",\n",
    "          \"invalid date\"]\n",
    "\n",
    " # your code here ...:\n"
   ]
  },
  {
   "cell_type": "code",
   "execution_count": null,
   "metadata": {},
   "outputs": [],
   "source": [
    "#11 Question: Remove punctuation except hyphens \n",
    "\n",
    "inputs = [\"Hello! World?\",\n",
    "          \"123-Main_St.\",\n",
    "          \"Hi there.\"]\n",
    "\n",
    " # your code here ...:"
   ]
  },
  {
   "cell_type": "code",
   "execution_count": null,
   "metadata": {},
   "outputs": [],
   "source": [
    "#12 Question: Count occurrences of a word\n",
    "\n",
    "inputs = [\"Hello world. Hello!\", \n",
    "          \"Hello hello world\",\n",
    "          \"no match\"]\n",
    "\n",
    "# your code here ...:"
   ]
  },
  {
   "cell_type": "code",
   "execution_count": null,
   "metadata": {},
   "outputs": [],
   "source": [
    "#13 Question: Extract IP addresses from log \n",
    "\n",
    "inputs = [\"127.0.0.1 - GET /\",\n",
    "          \"User logged in from 192.168.1.1\",\n",
    "          \"No IPs\"]\n",
    "\n",
    "# your code here ...:"
   ]
  },
  {
   "cell_type": "code",
   "execution_count": null,
   "metadata": {},
   "outputs": [],
   "source": [
    "#14 Question: Redact credit card and SSN numbers\n",
    "\n",
    "inputs = [\"Visa: 4111-1111-1111-1111\",\n",
    "          \"My SSN is 111-11-1111\", \n",
    "          \"No numbers\"]\n",
    "\n",
    "# your code here ...:"
   ]
  }
 ],
 "metadata": {
  "kernelspec": {
   "display_name": "ds",
   "language": "python",
   "name": "python3"
  },
  "language_info": {
   "codemirror_mode": {
    "name": "ipython",
    "version": 3
   },
   "file_extension": ".py",
   "mimetype": "text/x-python",
   "name": "python",
   "nbconvert_exporter": "python",
   "pygments_lexer": "ipython3",
   "version": "3.9.18"
  }
 },
 "nbformat": 4,
 "nbformat_minor": 2
}
